{
  "nbformat": 4,
  "nbformat_minor": 0,
  "metadata": {
    "colab": {
      "provenance": []
    },
    "kernelspec": {
      "name": "python3",
      "display_name": "Python 3"
    },
    "language_info": {
      "name": "python"
    }
  },
  "cells": [
    {
      "cell_type": "markdown",
      "source": [
        "**datetime Library**"
      ],
      "metadata": {
        "id": "Qfa9ZPIFCN_H"
      }
    },
    {
      "cell_type": "markdown",
      "source": [
        "**Problem 1** - Show current date and time(datetime.now, strftime)\n",
        "\n",
        "**Problem Statement**\n",
        "\n",
        "Print the current local date and time in three formats:\n",
        "\n",
        "1. ISO 8601 (YYYY-MM-DD HH:MM:SS)\n",
        "2. DD-Mon-YYYY HH:MM AM/PM\n",
        "3. Weekday name & 24-hour time(Wednesday 14:05)"
      ],
      "metadata": {
        "id": "MtqZdZCiCWKn"
      }
    },
    {
      "cell_type": "code",
      "execution_count": 5,
      "metadata": {
        "colab": {
          "base_uri": "https://localhost:8080/"
        },
        "id": "W1rzQgP4CH_8",
        "outputId": "bbcbd1d2-3ff5-49de-b11f-3eaf0100a2df"
      },
      "outputs": [
        {
          "output_type": "stream",
          "name": "stdout",
          "text": [
            "ISO    : 2025-10-18 02:06:29\n",
            "Pretty : 18-Oct-2025 02-06-am\n",
            "Weekday  : Saturday 02:06\n"
          ]
        }
      ],
      "source": [
        "from datetime import datetime\n",
        "\n",
        "now = datetime.now()\n",
        "print(\"ISO    :\", now.strftime(\"%Y-%m-%d %H:%M:%S\"))\n",
        "print(\"Pretty :\", now.strftime(\"%d-%b-%Y %I-%M-%P\"))\n",
        "print(\"Weekday  :\", now.strftime(\"%A %H:%M\"))"
      ]
    },
    {
      "cell_type": "markdown",
      "source": [
        "**Problem 2** - Days until a future date(datetime.srtftime, subtraction)\n",
        "\n",
        "**Problem Statement**\n",
        "\n",
        "Ask the user for a future date in the format DD/MM/YY. Parse it into a datetime object and print how many days remain until that date."
      ],
      "metadata": {
        "id": "3tltZ9nbEb93"
      }
    },
    {
      "cell_type": "code",
      "source": [
        "from datetime import datetime\n",
        "\n",
        "target_str = input(\"Enter the target date (DD/MM/YY):\")\n",
        "target_dt = datetime.strptime(target_str, \"%d/%m/%Y\")\n",
        "\n",
        "today = datetime.today()\n",
        "delta = target_dt - today\n",
        "print(\"Days remaining:\", delta.days)"
      ],
      "metadata": {
        "colab": {
          "base_uri": "https://localhost:8080/"
        },
        "id": "s4Gwbem8EZrp",
        "outputId": "f0f5acf1-6e09-4b99-bfae-983e8fe0e97b"
      },
      "execution_count": 11,
      "outputs": [
        {
          "output_type": "stream",
          "name": "stdout",
          "text": [
            "Enter the target date (DD/MM/YY):23/08/2030\n",
            "Days remaining: 1769\n"
          ]
        }
      ]
    },
    {
      "cell_type": "markdown",
      "source": [
        "**Problem 3** - Deadline after N Hours(timedelta)\n",
        "\n",
        "**Problem Statement**\n",
        "\n",
        "Given a start time and a duration in hours, compute the end time"
      ],
      "metadata": {
        "id": "rlrtxr4WHU9m"
      }
    },
    {
      "cell_type": "code",
      "source": [
        "from datetime import datetime, timedelta\n",
        "\n",
        "start_str = input(\"start time(HH:MM: 24 h): \")\n",
        "duration = float(input(\"Duration in hours:\"))\n",
        "start = datetime.strptime(start_str, \"%H:%M\")\n",
        "end = start + timedelta(hours = duration)\n",
        "print(\"Ends at:\", end.time().strftime(\"%H:%M\"))"
      ],
      "metadata": {
        "colab": {
          "base_uri": "https://localhost:8080/"
        },
        "id": "Lp0P5ieWHomX",
        "outputId": "74f9619d-4611-4f1a-d629-3be099026856"
      },
      "execution_count": 13,
      "outputs": [
        {
          "output_type": "stream",
          "name": "stdout",
          "text": [
            "start time(HH:MM: 24 h): 17:40\n",
            "Duration in hours:2\n",
            "Ends at: 19:40\n"
          ]
        }
      ]
    }
  ]
}
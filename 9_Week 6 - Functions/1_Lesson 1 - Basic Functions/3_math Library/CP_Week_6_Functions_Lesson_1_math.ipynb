{
  "nbformat": 4,
  "nbformat_minor": 0,
  "metadata": {
    "colab": {
      "provenance": []
    },
    "kernelspec": {
      "name": "python3",
      "display_name": "Python 3"
    },
    "language_info": {
      "name": "python"
    }
  },
  "cells": [
    {
      "cell_type": "markdown",
      "source": [
        "**math Library**"
      ],
      "metadata": {
        "id": "C6RsWp4-Wbpm"
      }
    },
    {
      "cell_type": "markdown",
      "source": [
        "**Problem 1** - Circle and Sphere Facts(math.pi, math.pow)\n",
        "\n",
        "**Problem Statement**\n",
        "\n",
        "Prompt the user for the circle radius r and compute\n",
        "  1. Area of the circle (π r²)\n",
        "  2. Circumference (2πr)\n",
        "  3. Volume of a Sphere(4/3πr³)\n",
        "  4. Surface Area of a Sphere(4πr²)\n",
        "Use only function/constants from the Python's built-in math library"
      ],
      "metadata": {
        "id": "Y-3RcyNQXuLn"
      }
    },
    {
      "cell_type": "code",
      "source": [
        "import math\n",
        "\n",
        "r = float(input(\"Radius of a circle: \"))\n",
        "area = math.pi * r**2\n",
        "circum = 2 * math.pi * r\n",
        "sphere_vol = 4/3 * math.pi * math.pow(r, 3)\n",
        "sphere_area = 4 * math.pi * r**2\n",
        "\n",
        "print(f\"Area of circle: {area: .3f}\")\n",
        "print(f\"Circumference of circle: {circum: .3f}\")\n",
        "print(f\"Volume of sphere: {sphere_vol: .3f}\")\n",
        "print(f\"Surface area of sphere: {sphere_area: .3f}\")"
      ],
      "metadata": {
        "colab": {
          "base_uri": "https://localhost:8080/"
        },
        "id": "FOCPWpamXzh-",
        "outputId": "c02baa76-8bbc-44d7-b913-b10564531517"
      },
      "execution_count": 4,
      "outputs": [
        {
          "output_type": "stream",
          "name": "stdout",
          "text": [
            "Radius of a circle: 10\n",
            "Area of circle:  314.159\n",
            "Circumference of circle:  62.832\n",
            "Volume of sphere:  4188.790\n",
            "Surface area of sphere:  1256.637\n"
          ]
        }
      ]
    },
    {
      "cell_type": "markdown",
      "source": [
        "**Problem 2** - Degrees ↔ Radians and Basic Trignometry\n",
        "\n",
        "**Problem Statement**\n",
        "\n",
        "Convert an angle in degrees to radians, then back to degrees and print its sine and cosine"
      ],
      "metadata": {
        "id": "cRYd8h8YY_N1"
      }
    },
    {
      "cell_type": "code",
      "source": [
        "import math\n",
        "\n",
        "angle_deg = float(input(\"Enter angle in degrees: \"))\n",
        "angle_rad = math.radians(angle_deg)\n",
        "\n",
        "print(\"Radians: \", angle_rad)\n",
        "print(\"Back to degrees \", math.degrees(angle_rad))\n",
        "print(f\"sin({angle_deg})°=\", math.sin(angle_rad))\n",
        "print(f\"cos({angle_deg})°=\", math.cos(angle_rad))\n"
      ],
      "metadata": {
        "colab": {
          "base_uri": "https://localhost:8080/"
        },
        "id": "G9bCSm1oZdv9",
        "outputId": "35578f83-aad7-4956-9e04-96c19d747e44"
      },
      "execution_count": 16,
      "outputs": [
        {
          "output_type": "stream",
          "name": "stdout",
          "text": [
            "Enter angle in degrees: 90\n",
            "Radians:  1.5707963267948966\n",
            "Back to degrees  90.0\n",
            "sin(90.0)°= 1.0\n",
            "cos(90.0)°= 6.123233995736766e-17\n"
          ]
        }
      ]
    },
    {
      "cell_type": "markdown",
      "source": [
        "**Problem 3** - Factorial Vs Gamma Function\n",
        "\n",
        "**Problem Statement**\n",
        "\n",
        "Show that ⌈(n+1) = n! for an integer n, by printing math.factorial(n) and math.gamma(n+1) for n = 10."
      ],
      "metadata": {
        "id": "OVrEr1ggbH2N"
      }
    },
    {
      "cell_type": "code",
      "source": [
        "import math\n",
        "\n",
        "n = 10\n",
        "print(f\"{n}! =\", math.factorial(n))\n",
        "print(f\"Gamma({n+1}) = \", math.gamma(n+1))"
      ],
      "metadata": {
        "colab": {
          "base_uri": "https://localhost:8080/"
        },
        "id": "EztyiCsEb0yl",
        "outputId": "3dd4c1db-2056-496a-aba3-059cb48c95b0"
      },
      "execution_count": 7,
      "outputs": [
        {
          "output_type": "stream",
          "name": "stdout",
          "text": [
            "10! = 3628800\n",
            "Gamma(11) =  3628800.0\n"
          ]
        }
      ]
    },
    {
      "cell_type": "markdown",
      "source": [
        "**Problem 4** - Distance between points(math.dist, math.hypot)\n",
        "\n",
        "**Problem Statement**\n",
        "\n",
        "Compute the Euclidean distance between two 2D points using math.dist, then show that the math.hypot(x,y) returns the distance from the orgin to (x, y)"
      ],
      "metadata": {
        "id": "jgu_vy8ncdYN"
      }
    },
    {
      "cell_type": "code",
      "source": [
        "import math\n",
        "\n",
        "p = (3, 4)\n",
        "q = (-2, 7)\n",
        "\n",
        "print(\"Distance p - q, using math.dist and math.dist(p, q)\")\n",
        "x, y = p\n",
        "print(\"Distance from the orgin to p using math.hypot:\", math.hypot(x, y))\n"
      ],
      "metadata": {
        "colab": {
          "base_uri": "https://localhost:8080/"
        },
        "id": "jn_1UP-VdE_0",
        "outputId": "6d23d111-4f47-435e-f6ca-c7365c3a02c9"
      },
      "execution_count": 9,
      "outputs": [
        {
          "output_type": "stream",
          "name": "stdout",
          "text": [
            "Distance p - q, using math.dist and math.dist(p, q)\n",
            "Distance from the orgin to p using math.hypot: 5.0\n"
          ]
        }
      ]
    },
    {
      "cell_type": "markdown",
      "source": [
        "**Problem 5** - Rounding and Float Comparison\n",
        "\n",
        "**Problem Statement**\n",
        "\n",
        "Demonstrate math.ceil, math.floor, math.trunc"
      ],
      "metadata": {
        "id": "GD5DzYeQeLKc"
      }
    },
    {
      "cell_type": "code",
      "source": [
        "import math\n",
        "\n",
        "x = 3.14159\n",
        "print(\"Ceil :\", math.ceil(x))\n",
        "print(\"Floor :\", math.floor(x))\n",
        "print(\"Trunc :\", math.trunc(x))\n",
        "\n",
        "x = -3.14159\n",
        "print(\"Ceil :\", math.ceil(x))\n",
        "print(\"Floor :\", math.floor(x))\n",
        "print(\"Trunc :\", math.trunc(x))"
      ],
      "metadata": {
        "colab": {
          "base_uri": "https://localhost:8080/"
        },
        "id": "dS7IJjnLegxc",
        "outputId": "5567f770-628b-49e8-d29e-de469c7f5d2d"
      },
      "execution_count": 11,
      "outputs": [
        {
          "output_type": "stream",
          "name": "stdout",
          "text": [
            "Ceil : 4\n",
            "Floor : 3\n",
            "Trunc : 3\n",
            "Ceil : -3\n",
            "Floor : -4\n",
            "Trunc : -3\n"
          ]
        }
      ]
    },
    {
      "cell_type": "markdown",
      "source": [
        "**Problem 6** - GCD, LCM, Integer Square Root\n",
        "\n",
        "**Problem Statement**\n",
        "\n",
        "For two integers a and b, print their greatest common divisor and the least common multiple. Also compute isqrt(n) for an integer n to get ⌊√n⌋"
      ],
      "metadata": {
        "id": "qGLPCpa1fiBe"
      }
    },
    {
      "cell_type": "code",
      "source": [
        "import math\n",
        "\n",
        "a, b = 660, 924\n",
        "print(\"GCD :\", math.gcd(a,b))\n",
        "print(\"LCM :\", math.lcm(a,b))\n",
        "\n",
        "n = 10_000\n",
        "print(\"isqrt(10000) :\", math.isqrt(n))"
      ],
      "metadata": {
        "colab": {
          "base_uri": "https://localhost:8080/"
        },
        "id": "xlUrHtxxgXw6",
        "outputId": "47c6c094-4de1-493c-d8a0-f2363137383a"
      },
      "execution_count": 13,
      "outputs": [
        {
          "output_type": "stream",
          "name": "stdout",
          "text": [
            "GCD : 132\n",
            "LCM : 4620\n",
            "isqrt(10000) : 100\n"
          ]
        }
      ]
    }
  ]
}
{
  "nbformat": 4,
  "nbformat_minor": 0,
  "metadata": {
    "colab": {
      "provenance": []
    },
    "kernelspec": {
      "name": "python3",
      "display_name": "Python 3"
    },
    "language_info": {
      "name": "python"
    }
  },
  "cells": [
    {
      "cell_type": "markdown",
      "source": [
        "**random Library**"
      ],
      "metadata": {
        "id": "3fr0ZQRwo9eQ"
      }
    },
    {
      "cell_type": "markdown",
      "source": [
        "**Problem** - Dice Roll and Password Generator(random)\n",
        "\n",
        "**Problem Statement**\n",
        "\n",
        "Use random to simulate rolling a dice"
      ],
      "metadata": {
        "id": "Z3pmmjg6mad4"
      }
    },
    {
      "cell_type": "code",
      "execution_count": 2,
      "metadata": {
        "colab": {
          "base_uri": "https://localhost:8080/"
        },
        "id": "cCIPi9iwmVye",
        "outputId": "100defb3-fc5e-45a3-9000-751c15abb8d7"
      },
      "outputs": [
        {
          "output_type": "stream",
          "name": "stdout",
          "text": [
            "1: 1\n",
            "2: 3\n",
            "3: 2\n",
            "4: 1\n",
            "5: 2\n",
            "6: 1\n"
          ]
        }
      ],
      "source": [
        "import random\n",
        "\n",
        "trials = 10\n",
        "\n",
        "# individual counters for each die face\n",
        "c1 = c2 = c3 = c4 = c5 = c6 = 0\n",
        "\n",
        "for _ in range(trials):\n",
        "  face = random.randint(1, 6)\n",
        "  if (face == 1):\n",
        "    c1 += 1\n",
        "  elif (face == 2):\n",
        "    c2 += 1\n",
        "  elif (face == 3):\n",
        "    c3 += 1\n",
        "  elif (face == 4):\n",
        "    c4 += 1\n",
        "  elif (face == 5):\n",
        "    c5 += 1\n",
        "  else:   # face == 6\n",
        "    c6 += 1\n",
        "print(f\"1: {c1}\")\n",
        "print(f\"2: {c2}\")\n",
        "print(f\"3: {c3}\")\n",
        "print(f\"4: {c4}\")\n",
        "print(f\"5: {c5}\")\n",
        "print(f\"6: {c6}\")"
      ]
    },
    {
      "cell_type": "markdown",
      "source": [
        "Pick 6 unique lottery number(1 to 49)"
      ],
      "metadata": {
        "id": "Ukj6fuy7oaCp"
      }
    },
    {
      "cell_type": "code",
      "source": [
        "import random\n",
        "\n",
        "lottery_numbers = random.sample(range(1, 50), 6)\n",
        "print(\"Lottery draw:\", *lottery_numbers)"
      ],
      "metadata": {
        "colab": {
          "base_uri": "https://localhost:8080/"
        },
        "id": "ico7EKVMojAY",
        "outputId": "60e90822-e0c7-404b-8401-fe0e21f07275"
      },
      "execution_count": 4,
      "outputs": [
        {
          "output_type": "stream",
          "name": "stdout",
          "text": [
            "Lottery draw: 20 47 12 3 40 25\n"
          ]
        }
      ]
    }
  ]
}
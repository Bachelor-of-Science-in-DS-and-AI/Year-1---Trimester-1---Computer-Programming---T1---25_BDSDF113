{
  "nbformat": 4,
  "nbformat_minor": 0,
  "metadata": {
    "colab": {
      "provenance": []
    },
    "kernelspec": {
      "name": "python3",
      "display_name": "Python 3"
    },
    "language_info": {
      "name": "python"
    }
  },
  "cells": [
    {
      "cell_type": "markdown",
      "source": [
        "**Lesson 2 - Building Our Own Functions**"
      ],
      "metadata": {
        "id": "0SR0X3rEYrQY"
      }
    },
    {
      "cell_type": "markdown",
      "source": [
        "**Program 1**"
      ],
      "metadata": {
        "id": "3cg16tAsZMyI"
      }
    },
    {
      "cell_type": "code",
      "execution_count": 1,
      "metadata": {
        "colab": {
          "base_uri": "https://localhost:8080/"
        },
        "id": "7n6Kj5gNYTXs",
        "outputId": "65f924bc-e1ae-48b1-b387-86050b8f3d12"
      },
      "outputs": [
        {
          "output_type": "stream",
          "name": "stdout",
          "text": [
            "I'm a lumerback and I'm okay\n",
            "I sleep all night and I work all day\n"
          ]
        }
      ],
      "source": [
        "def print_lyrics():\n",
        "  print(\"I'm a lumerback and I'm okay\")\n",
        "  print(\"I sleep all night and I work all day\")\n",
        "\n",
        "print_lyrics()"
      ]
    },
    {
      "cell_type": "markdown",
      "source": [
        "**Program 2**"
      ],
      "metadata": {
        "id": "rvDVVEwdZPxo"
      }
    },
    {
      "cell_type": "code",
      "source": [
        "x = 5\n",
        "print('Hello')\n",
        "\n",
        "def print_lyrics():\n",
        "  print(\"I'm a lumerback and I'm okay\")\n",
        "  print(\"I sleep all night and I work all day\")\n",
        "\n",
        "print('Yo')\n",
        "x = x + 2\n",
        "print(x)\n",
        "\n"
      ],
      "metadata": {
        "colab": {
          "base_uri": "https://localhost:8080/"
        },
        "id": "FoQLJ69JZKzf",
        "outputId": "23e3c990-cd21-4e2b-d01c-8425bf265547"
      },
      "execution_count": 2,
      "outputs": [
        {
          "output_type": "stream",
          "name": "stdout",
          "text": [
            "Hello\n",
            "Yo\n",
            "7\n"
          ]
        }
      ]
    },
    {
      "cell_type": "markdown",
      "source": [
        "**Program 3**"
      ],
      "metadata": {
        "id": "MU0HMR0WZjzY"
      }
    },
    {
      "cell_type": "code",
      "source": [
        "x = 5\n",
        "print('Hello')\n",
        "\n",
        "def print_lyrics():\n",
        "  print(\"I'm a lumerback and I'm okay\")\n",
        "  print(\"I sleep all night and I work all day\")\n",
        "\n",
        "print('Yo')\n",
        "print_lyrics()\n",
        "x = x + 2\n",
        "print(x)"
      ],
      "metadata": {
        "colab": {
          "base_uri": "https://localhost:8080/"
        },
        "id": "XtePTv4pZmTo",
        "outputId": "8a9416d4-a228-4802-d8ed-a3f5aa8e89e1"
      },
      "execution_count": 3,
      "outputs": [
        {
          "output_type": "stream",
          "name": "stdout",
          "text": [
            "Hello\n",
            "Yo\n",
            "I'm a lumerback and I'm okay\n",
            "I sleep all night and I work all day\n",
            "7\n"
          ]
        }
      ]
    }
  ]
}
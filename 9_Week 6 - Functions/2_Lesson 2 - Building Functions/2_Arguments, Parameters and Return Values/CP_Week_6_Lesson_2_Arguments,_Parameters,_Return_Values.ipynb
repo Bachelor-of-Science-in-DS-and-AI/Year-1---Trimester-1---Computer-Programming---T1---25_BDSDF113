{
  "nbformat": 4,
  "nbformat_minor": 0,
  "metadata": {
    "colab": {
      "provenance": []
    },
    "kernelspec": {
      "name": "python3",
      "display_name": "Python 3"
    },
    "language_info": {
      "name": "python"
    }
  },
  "cells": [
    {
      "cell_type": "markdown",
      "source": [
        "**Lesson 2 - Arguments, Parameters and Return Values**"
      ],
      "metadata": {
        "id": "3yrNh1Iu3ZUP"
      }
    },
    {
      "cell_type": "markdown",
      "source": [
        "**Arguments**"
      ],
      "metadata": {
        "id": "friJCj-U3mGx"
      }
    },
    {
      "cell_type": "code",
      "execution_count": 2,
      "metadata": {
        "colab": {
          "base_uri": "https://localhost:8080/"
        },
        "id": "seEQ18Wu3Fss",
        "outputId": "3a73865d-dc2d-4017-b440-73847542ac20"
      },
      "outputs": [
        {
          "output_type": "stream",
          "name": "stdout",
          "text": [
            "w\n"
          ]
        }
      ],
      "source": [
        "big = max('Hello world')\n",
        "print(big)"
      ]
    },
    {
      "cell_type": "markdown",
      "source": [
        "**Parameters**"
      ],
      "metadata": {
        "id": "X-88l4AS3vXh"
      }
    },
    {
      "cell_type": "code",
      "source": [
        "def greet(lang):\n",
        "  if lang == 'es':\n",
        "    print('Hola')\n",
        "  elif lang == 'fr':\n",
        "    print('Bonjour')\n",
        "  else:\n",
        "    print('Hello')\n",
        "\n",
        "greet('es')\n",
        "greet('en')\n",
        "greet('fr')"
      ],
      "metadata": {
        "colab": {
          "base_uri": "https://localhost:8080/"
        },
        "id": "NEQO4zZf343w",
        "outputId": "3a01f323-6f4a-4e51-a3e1-dc4f9ad323cf"
      },
      "execution_count": 3,
      "outputs": [
        {
          "output_type": "stream",
          "name": "stdout",
          "text": [
            "Hola\n",
            "Hello\n",
            "Bonjour\n"
          ]
        }
      ]
    },
    {
      "cell_type": "markdown",
      "source": [
        "**Return Values**"
      ],
      "metadata": {
        "id": "dzNiGcgM4lqa"
      }
    },
    {
      "cell_type": "code",
      "source": [
        "def greet():\n",
        "  return \"Hello\"\n",
        "print(greet(), \"Glenn\")\n",
        "print(greet(), \"Sally\")"
      ],
      "metadata": {
        "colab": {
          "base_uri": "https://localhost:8080/"
        },
        "id": "cbFcYAX44omR",
        "outputId": "f45bf555-5e41-407a-9ec8-135e35f70801"
      },
      "execution_count": 4,
      "outputs": [
        {
          "output_type": "stream",
          "name": "stdout",
          "text": [
            "Hello Glenn\n",
            "Hello Sally\n"
          ]
        }
      ]
    },
    {
      "cell_type": "markdown",
      "source": [
        "**Fruitful Function**"
      ],
      "metadata": {
        "id": "LCs0XPSe443b"
      }
    },
    {
      "cell_type": "code",
      "source": [
        "def greet(lang):\n",
        "  if lang == 'es':\n",
        "    return 'Hola'\n",
        "  elif lang == 'fr':\n",
        "    return 'Bonjour'\n",
        "  else:\n",
        "    return 'Hello'\n",
        "\n",
        "print(greet('en'), 'Glenn')\n",
        "print(greet('es'), 'Sally')\n",
        "print(greet('fr'), 'Micheal')"
      ],
      "metadata": {
        "colab": {
          "base_uri": "https://localhost:8080/"
        },
        "id": "7nonmG8Y48TI",
        "outputId": "ea2bddcf-ad6b-4dfe-ac92-2eccd26baf67"
      },
      "execution_count": 5,
      "outputs": [
        {
          "output_type": "stream",
          "name": "stdout",
          "text": [
            "Hello Glenn\n",
            "Hola Sally\n",
            "Bonjour Micheal\n"
          ]
        }
      ]
    },
    {
      "cell_type": "markdown",
      "source": [
        "**Multiple Parameters/Arguments**"
      ],
      "metadata": {
        "id": "dpetCyt85qx6"
      }
    },
    {
      "cell_type": "code",
      "source": [
        "def addtwo(a, b):\n",
        "  added = a + b\n",
        "  return added\n",
        "\n",
        "x = addtwo(3, 5)\n",
        "print(x)"
      ],
      "metadata": {
        "colab": {
          "base_uri": "https://localhost:8080/"
        },
        "id": "j2FLK9DE5u7v",
        "outputId": "72b6227a-f046-43a3-ebd1-4b182263e34d"
      },
      "execution_count": 6,
      "outputs": [
        {
          "output_type": "stream",
          "name": "stdout",
          "text": [
            "8\n"
          ]
        }
      ]
    },
    {
      "cell_type": "markdown",
      "source": [
        "**Multiple Return Values**"
      ],
      "metadata": {
        "id": "gRznWsDV5-fg"
      }
    },
    {
      "cell_type": "code",
      "source": [
        "def stats(a, b, c):\n",
        "  \"\"\"Return the sum, average and product of three numbers\"\"\"\n",
        "  s = a + b + c\n",
        "  avg = s / 3\n",
        "  prod = a * b * c\n",
        "  return s, avg, prod\n",
        "\n",
        "# caller side\n",
        "total, mean, product = stats(2, 3, 5)\n",
        "print(\"Sum  :\", total)\n",
        "print(\"Mean :\", mean)\n",
        "print(\"Product :\", product)"
      ],
      "metadata": {
        "colab": {
          "base_uri": "https://localhost:8080/"
        },
        "id": "kyY3xyQR6ELo",
        "outputId": "1a826c50-828d-425a-f2c9-9ec426f4d370"
      },
      "execution_count": 7,
      "outputs": [
        {
          "output_type": "stream",
          "name": "stdout",
          "text": [
            "Sum  : 10\n",
            "Mean : 3.3333333333333335\n",
            "Product : 30\n"
          ]
        }
      ]
    },
    {
      "cell_type": "markdown",
      "source": [
        "**Void Function(Non-fruitful Function)**"
      ],
      "metadata": {
        "id": "OW78StTK65nT"
      }
    },
    {
      "cell_type": "code",
      "source": [
        "# fruitful function\n",
        "def addtwo(a, b):\n",
        "  added = a + b\n",
        "  return added\n",
        "\n",
        "# non-fruitful function\n",
        "def greet():\n",
        "  print(\"Hello\")\n",
        "\n",
        "x = addtwo(3, 4)\n",
        "print(x)\n",
        "greet()"
      ],
      "metadata": {
        "colab": {
          "base_uri": "https://localhost:8080/"
        },
        "id": "PgfAMv0V7CCw",
        "outputId": "63d57b89-0036-4aeb-d308-b3e42c3296f3"
      },
      "execution_count": 13,
      "outputs": [
        {
          "output_type": "stream",
          "name": "stdout",
          "text": [
            "7\n",
            "Hello\n"
          ]
        }
      ]
    }
  ]
}
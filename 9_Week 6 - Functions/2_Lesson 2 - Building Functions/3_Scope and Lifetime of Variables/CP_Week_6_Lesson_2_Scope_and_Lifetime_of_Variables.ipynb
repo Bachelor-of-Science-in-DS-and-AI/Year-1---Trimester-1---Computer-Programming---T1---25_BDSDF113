{
  "nbformat": 4,
  "nbformat_minor": 0,
  "metadata": {
    "colab": {
      "provenance": []
    },
    "kernelspec": {
      "name": "python3",
      "display_name": "Python 3"
    },
    "language_info": {
      "name": "python"
    }
  },
  "cells": [
    {
      "cell_type": "markdown",
      "source": [
        "**Lesson 2 - Scope and Lifetime of Variables**"
      ],
      "metadata": {
        "id": "-94eFSXn9JVw"
      }
    },
    {
      "cell_type": "markdown",
      "source": [
        "**Program 1** - Local Vs Global Scope\n",
        "\n",
        "**Purpose** - Demonstarte how a local variable inside a function can shadow a global variable of the same name"
      ],
      "metadata": {
        "id": "erTbvMPO-C7h"
      }
    },
    {
      "cell_type": "code",
      "execution_count": 1,
      "metadata": {
        "colab": {
          "base_uri": "https://localhost:8080/"
        },
        "id": "hSf1GPve9DDS",
        "outputId": "45a95eb6-4b36-4cd2-ffa7-970758328e33"
      },
      "outputs": [
        {
          "output_type": "stream",
          "name": "stdout",
          "text": [
            "Inside function: local\n",
            "Outside function: global\n"
          ]
        }
      ],
      "source": [
        "x = \"global\"    # global variable\n",
        "def demo_local():\n",
        "  x = \"local\"\n",
        "  print(\"Inside function:\", x)\n",
        "\n",
        "demo_local()\n",
        "print(\"Outside function:\", x)"
      ]
    },
    {
      "cell_type": "markdown",
      "source": [
        "**Program 2** - Modifying a global variable with global\n",
        "\n",
        "**Purpose** - Use the global keyword so a function can increment a module-level counter variable"
      ],
      "metadata": {
        "id": "1onp2XfU-aTW"
      }
    },
    {
      "cell_type": "code",
      "source": [
        "counter = 10\n",
        "def increment():\n",
        "  global counter\n",
        "  counter += 1\n",
        "for _ in range(3):\n",
        "  increment()\n",
        "print(\"Counter = \", counter)"
      ],
      "metadata": {
        "colab": {
          "base_uri": "https://localhost:8080/"
        },
        "id": "KdPEHDsB-vov",
        "outputId": "d1927694-fdef-4824-82e0-d9e990572489"
      },
      "execution_count": 2,
      "outputs": [
        {
          "output_type": "stream",
          "name": "stdout",
          "text": [
            "Counter =  13\n"
          ]
        }
      ]
    }
  ]
}
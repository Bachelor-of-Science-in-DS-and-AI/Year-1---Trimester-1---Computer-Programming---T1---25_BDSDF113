{
  "nbformat": 4,
  "nbformat_minor": 0,
  "metadata": {
    "colab": {
      "provenance": []
    },
    "kernelspec": {
      "name": "python3",
      "display_name": "Python 3"
    },
    "language_info": {
      "name": "python"
    }
  },
  "cells": [
    {
      "cell_type": "markdown",
      "source": [
        "**Lesson 2 - BMI Calculator**"
      ],
      "metadata": {
        "id": "EhwlnTcMA6QH"
      }
    },
    {
      "cell_type": "markdown",
      "source": [
        "The miniproject asks for your weight(kg) and height(cm) computes your Body Mass Index(BMI) and classifies it according to WHO categories."
      ],
      "metadata": {
        "id": "dbBhat3IBCs2"
      }
    },
    {
      "cell_type": "code",
      "execution_count": 6,
      "metadata": {
        "id": "DrUNYwt7Ajbk"
      },
      "outputs": [],
      "source": [
        "# Reusable Input Layer\n",
        "\n",
        "def get_user_float(prompt, min_value = 0.0):\n",
        "  \"\"\"Ask repeatedly until the user enters a numeric value >= min_value.\"\"\"\n",
        "  while True:\n",
        "    try:\n",
        "      value = float(input(prompt))\n",
        "      if value >= min_value:\n",
        "        return value\n",
        "      print(f\"Please enter a number >= {min_value}\")\n",
        "    except ValueError:\n",
        "      print(\"That wasn't a valid number!\")"
      ]
    },
    {
      "cell_type": "code",
      "source": [
        "# Pure Computation\n",
        "\n",
        "def calculate_bmi(weight_kg, height_m):\n",
        "  \"\"\"Return Body_Mass_Index given weight(kg) and height(m)\"\"\"\n",
        "  return weight_kg / height_m ** 2"
      ],
      "metadata": {
        "id": "iYNdYSMICcp4"
      },
      "execution_count": 7,
      "outputs": []
    },
    {
      "cell_type": "code",
      "source": [
        "# Decision Logic\n",
        "\n",
        "def bmi_category(bmi):\n",
        "  \"\"\"Classify BMI into WHO categories\"\"\"\n",
        "  if bmi < 18.5:\n",
        "    return \"Underweight\"\n",
        "  elif bmi < 25:\n",
        "    return \"Normal Weight\"\n",
        "  elif bmi < 30:\n",
        "    return \"Over Weight\"\n",
        "  else:\n",
        "    return \"Obese\""
      ],
      "metadata": {
        "id": "zMccWnt9C6i4"
      },
      "execution_count": 8,
      "outputs": []
    },
    {
      "cell_type": "code",
      "source": [
        "# Main Program\n",
        "\n",
        "def main():\n",
        "  print(\"===BMI & Calorie Needs Helper===\")\n",
        "  weight = get_user_float(\"Enter your local weight(kg): \", 1)\n",
        "  height = get_user_float(\"Enter your local height(cm): \", 30)/100     # convert to meters\n",
        "  bmi = calculate_bmi(weight, height)\n",
        "  category = bmi_category(bmi)\n",
        "  print(f\" \\n Your BMI is {bmi:.1f}-{category}\")\n",
        "  print(\" \\n Thanks for Using the BMI Calculator\")"
      ],
      "metadata": {
        "id": "2SpTTNFzDG5r"
      },
      "execution_count": 9,
      "outputs": []
    },
    {
      "cell_type": "code",
      "source": [
        "main()"
      ],
      "metadata": {
        "colab": {
          "base_uri": "https://localhost:8080/"
        },
        "id": "bMqScz6zFsrn",
        "outputId": "b37381fa-3c42-4b7b-ae29-a77182d100fc"
      },
      "execution_count": 10,
      "outputs": [
        {
          "output_type": "stream",
          "name": "stdout",
          "text": [
            "===BMI & Calorie Needs Helper===\n",
            "Enter your local weight(kg): 50\n",
            "Enter your local height(cm): 162\n",
            " \n",
            " Your BMI is 19.1-Normal Weight\n",
            " \n",
            " Thanks for Using the BMI Calculator\n"
          ]
        }
      ]
    }
  ]
}
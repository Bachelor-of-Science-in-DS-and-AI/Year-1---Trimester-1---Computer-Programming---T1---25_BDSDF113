{
  "nbformat": 4,
  "nbformat_minor": 0,
  "metadata": {
    "colab": {
      "provenance": []
    },
    "kernelspec": {
      "name": "python3",
      "display_name": "Python 3"
    },
    "language_info": {
      "name": "python"
    }
  },
  "cells": [
    {
      "cell_type": "markdown",
      "source": [
        "**Lesson 3 - Decorators**"
      ],
      "metadata": {
        "id": "TdD1pUHtRVoL"
      }
    },
    {
      "cell_type": "markdown",
      "source": [
        "A **decorator**is a callable that takes another function or class and returns a new function with added behaviour\n",
        "Lets you attach cross-cutting features(logging, timing, caching) without changing original code\n",
        "\n",
        "**Analogy:** Wrapping the same present in different paper"
      ],
      "metadata": {
        "id": "CMYEyVM9Rc5c"
      }
    },
    {
      "cell_type": "markdown",
      "source": [
        "**Slide 2 - Minimal Syntax Example**"
      ],
      "metadata": {
        "id": "rNYhnjW7SHmq"
      }
    },
    {
      "cell_type": "code",
      "execution_count": 2,
      "metadata": {
        "colab": {
          "base_uri": "https://localhost:8080/"
        },
        "id": "KssKAkiZRRHc",
        "outputId": "5bb3b412-ddad-42bf-b502-cb169d9ee4f8"
      },
      "outputs": [
        {
          "output_type": "stream",
          "name": "stdout",
          "text": [
            "HELLO\n"
          ]
        }
      ],
      "source": [
        "def shout(func):          # decorator\n",
        "  def wrapper():          # new function\n",
        "    result = func()       # call original\n",
        "    return result.upper() # enhance\n",
        "  return wrapper\n",
        "\n",
        "@shout                    # = greet = should(greet)\n",
        "def greet():\n",
        "  return \"hello\"\n",
        "print(greet())            # HELLO"
      ]
    }
  ]
}
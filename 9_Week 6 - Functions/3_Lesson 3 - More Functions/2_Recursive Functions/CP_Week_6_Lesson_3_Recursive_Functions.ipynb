{
  "nbformat": 4,
  "nbformat_minor": 0,
  "metadata": {
    "colab": {
      "provenance": []
    },
    "kernelspec": {
      "name": "python3",
      "display_name": "Python 3"
    },
    "language_info": {
      "name": "python"
    }
  },
  "cells": [
    {
      "cell_type": "markdown",
      "source": [
        "**Lesson 3 - Recursive Functions**"
      ],
      "metadata": {
        "id": "sZFSxh3-TZL0"
      }
    },
    {
      "cell_type": "markdown",
      "source": [
        "**Anatomy of a Simple Recursive Function(Factorial)**"
      ],
      "metadata": {
        "id": "QJKUxIp-UM_7"
      }
    },
    {
      "cell_type": "code",
      "source": [
        "def factorial(n):\n",
        "  \"\"\"Return n! using recursion \"\"\"\n",
        "  if n == 0:    # base case\n",
        "    return 1\n",
        "  return n * factorial(n - 1)   # recursive case\n",
        "for i in range(6):\n",
        "    print(f\" {i}! = \", factorial(i))"
      ],
      "metadata": {
        "colab": {
          "base_uri": "https://localhost:8080/"
        },
        "id": "o9k6XY0nTfpr",
        "outputId": "9576bed7-6d68-4876-c19b-0da7ac15d1d7"
      },
      "execution_count": 3,
      "outputs": [
        {
          "output_type": "stream",
          "name": "stdout",
          "text": [
            " 0! =  1\n",
            " 1! =  1\n",
            " 2! =  2\n",
            " 3! =  6\n",
            " 4! =  24\n",
            " 5! =  120\n"
          ]
        }
      ]
    },
    {
      "cell_type": "markdown",
      "source": [
        "**Fibonacci**"
      ],
      "metadata": {
        "id": "NA6kLl3sUbYD"
      }
    },
    {
      "cell_type": "code",
      "source": [
        "def fib(n):\n",
        "  \"\"\"Return nth Fibonacci number(naive recursion)\"\"\"\n",
        "  if n < 2:\n",
        "    return n\n",
        "  return fib(n - 1) + fib(n - 2)\n",
        "print([fib(i) for i in range(10)])"
      ],
      "metadata": {
        "colab": {
          "base_uri": "https://localhost:8080/"
        },
        "id": "HfeY1QJRUeTz",
        "outputId": "fb4371d1-cfc1-4419-b216-34918d3cb6ff"
      },
      "execution_count": 4,
      "outputs": [
        {
          "output_type": "stream",
          "name": "stdout",
          "text": [
            "[0, 1, 1, 2, 3, 5, 8, 13, 21, 34]\n"
          ]
        }
      ]
    },
    {
      "cell_type": "markdown",
      "source": [
        "**Sum of Digits**"
      ],
      "metadata": {
        "id": "fK8dxNhtVD9b"
      }
    },
    {
      "cell_type": "code",
      "source": [
        "# Challenge 1: Sum-Digits\n",
        "def sum_digits(n):\n",
        "  if n < 10:\n",
        "    return  n\n",
        "  return n % 10 + sum_digits(n // 10)\n",
        "print(sum_digits(12345))     # expected 15\n"
      ],
      "metadata": {
        "colab": {
          "base_uri": "https://localhost:8080/"
        },
        "id": "Z0VxmK6nVHab",
        "outputId": "310598e1-12d3-4414-9bc8-2bba39868815"
      },
      "execution_count": 5,
      "outputs": [
        {
          "output_type": "stream",
          "name": "stdout",
          "text": [
            "15\n"
          ]
        }
      ]
    }
  ]
}
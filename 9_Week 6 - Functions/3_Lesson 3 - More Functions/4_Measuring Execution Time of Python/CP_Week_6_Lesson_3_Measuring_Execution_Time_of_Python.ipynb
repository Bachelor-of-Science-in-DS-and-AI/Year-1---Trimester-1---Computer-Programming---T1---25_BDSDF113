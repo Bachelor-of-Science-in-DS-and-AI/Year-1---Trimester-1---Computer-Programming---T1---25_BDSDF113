{
  "nbformat": 4,
  "nbformat_minor": 0,
  "metadata": {
    "colab": {
      "provenance": []
    },
    "kernelspec": {
      "name": "python3",
      "display_name": "Python 3"
    },
    "language_info": {
      "name": "python"
    }
  },
  "cells": [
    {
      "cell_type": "markdown",
      "source": [
        "**Lesson 3 - Measuring Exection Time of Python**"
      ],
      "metadata": {
        "id": "XoNbW9KqPCN1"
      }
    },
    {
      "cell_type": "markdown",
      "source": [
        "**Why measure execution time?**\n",
        "\n",
        "*   Performance Matters\n",
        "*   Measuring lets u:\n",
        "    1. Compare algorithms or implementations\n",
        "    2. Detect problems and optimize our code\n",
        "    3. Choose empirical parameters (eg. batch sizes)\n",
        "\n",
        "  **Rule: \"You can't improve what you don't measure\"**\n"
      ],
      "metadata": {
        "id": "Z7uyDMrFNIkG"
      }
    },
    {
      "cell_type": "markdown",
      "source": [
        "**Quick and Dirty Stopwatch(time.perf_counter)**"
      ],
      "metadata": {
        "id": "ULA725FuN1q0"
      }
    },
    {
      "cell_type": "code",
      "execution_count": 1,
      "metadata": {
        "colab": {
          "base_uri": "https://localhost:8080/"
        },
        "id": "4y-G8xfQNGju",
        "outputId": "4340d8c7-9c90-4a42-f532-452b31ce324b"
      },
      "outputs": [
        {
          "output_type": "stream",
          "name": "stdout",
          "text": [
            "Elapsed:  0.1978 seconds\n"
          ]
        }
      ],
      "source": [
        "import time\n",
        "\n",
        "start = time.perf_counter()     # high resolution timer\n",
        "\n",
        "#------------Code to Measure---------------------------\n",
        "total = 0\n",
        "for i in range(1_000_000):\n",
        "  total += i * i\n",
        "\n",
        "#------------------------------------------------------\n",
        "elapsed = time.perf_counter() - start\n",
        "print(f\"Elapsed: {elapsed: .4f} seconds\")\n"
      ]
    }
  ]
}
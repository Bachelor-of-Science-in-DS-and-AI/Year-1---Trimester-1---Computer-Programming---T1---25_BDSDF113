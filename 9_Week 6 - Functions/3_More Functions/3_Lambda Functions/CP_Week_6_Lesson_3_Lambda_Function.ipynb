{
  "nbformat": 4,
  "nbformat_minor": 0,
  "metadata": {
    "colab": {
      "provenance": []
    },
    "kernelspec": {
      "name": "python3",
      "display_name": "Python 3"
    },
    "language_info": {
      "name": "python"
    }
  },
  "cells": [
    {
      "cell_type": "markdown",
      "source": [
        "**Lesson 3 - Lambda Function**"
      ],
      "metadata": {
        "id": "ioTaRgeMPewN"
      }
    },
    {
      "cell_type": "markdown",
      "source": [
        "**What is lambda?**\n",
        "\n",
        "A lambda is a small anaonymous function defined with lambda <parameters>:<single expression>\n",
        "\n",
        "*   Automatically returns the value of that expression\n",
        "*   Handy for inline, one off functions(call-backs, short keys etc)"
      ],
      "metadata": {
        "id": "a-eBSHygPjpc"
      }
    },
    {
      "cell_type": "markdown",
      "source": [
        "**Basic Example**"
      ],
      "metadata": {
        "id": "J-BqKu-NQJtM"
      }
    },
    {
      "cell_type": "code",
      "execution_count": 1,
      "metadata": {
        "colab": {
          "base_uri": "https://localhost:8080/"
        },
        "id": "EHeA6GdvPYSy",
        "outputId": "544a9d5f-2569-45a5-b922-91207cf86cef"
      },
      "outputs": [
        {
          "output_type": "stream",
          "name": "stdout",
          "text": [
            "25\n",
            "7\n",
            "None\n"
          ]
        }
      ],
      "source": [
        "square = lambda x: x ** 2\n",
        "add = lambda a, b:a + b\n",
        "nothing = lambda:None\n",
        "\n",
        "print(square(5))\n",
        "print(add(3, 4))\n",
        "print(nothing())"
      ]
    },
    {
      "cell_type": "markdown",
      "source": [
        "**Another Example - Capturing Outer Variables(Closures)**"
      ],
      "metadata": {
        "id": "zDN5JSSOQkcN"
      }
    },
    {
      "cell_type": "code",
      "source": [
        "rate = 0.18\n",
        "add_tax = lambda amount:amount * (1 + rate)\n",
        "print(add_tax(100))\n",
        "rate = 0.20\n",
        "print(add_tax(100))"
      ],
      "metadata": {
        "colab": {
          "base_uri": "https://localhost:8080/"
        },
        "id": "rsBbxhUyQtq1",
        "outputId": "8ee96441-45d2-4649-8fd7-6884e3dcd8df"
      },
      "execution_count": 2,
      "outputs": [
        {
          "output_type": "stream",
          "name": "stdout",
          "text": [
            "118.0\n",
            "120.0\n"
          ]
        }
      ]
    }
  ]
}